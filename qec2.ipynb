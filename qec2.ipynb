{
 "cells": [
  {
   "cell_type": "code",
   "execution_count": 35,
   "metadata": {},
   "outputs": [],
   "source": [
    "import cudaq\n",
    "import numpy as np\n",
    "import random\n",
    "from pymatching import Matching\n",
    "\n",
    "cudaq.set_target(\"nvidia\")\n",
    "\n",
    "N = 3\n",
    "NUM_PHY_QUBITS = 2*N*N-1\n",
    "N_ROUNDS = 0 # plus initial round"
   ]
  },
  {
   "cell_type": "code",
   "execution_count": 36,
   "metadata": {},
   "outputs": [],
   "source": [
    "# Check matrices for X and Z syndromes\n",
    "HX = np.array([\n",
    "    [0,1,1,0,0,0,0,0,0], # syndrome X0 connected to data qubits 1 and 2\n",
    "    [1,1,0,1,1,0,0,0,0], # syndrome X1 connected to data qubits 0, 1, 3, and 4\n",
    "    [0,0,0,0,1,1,0,1,1], # ...\n",
    "    [0,0,0,0,0,0,1,1,0]])\n",
    "HZ = np.array([\n",
    "    [1,0,0,1,0,0,0,0,0],\n",
    "    [0,1,1,0,1,1,0,0,0],\n",
    "    [0,0,0,1,1,0,1,1,0],\n",
    "    [0,0,0,0,0,1,0,0,1]])\n",
    "mx = Matching(HX, repetitions=N_ROUNDS, timelike_weights=999)\n",
    "mz = Matching(HZ, repetitions=N_ROUNDS, timelike_weights=999)"
   ]
  },
  {
   "cell_type": "code",
   "execution_count": 37,
   "metadata": {},
   "outputs": [],
   "source": [
    "def performRounds(numRounds):\n",
    "    kernel = cudaq.make_kernel()\n",
    "    qd = kernel.qalloc(N*N)\n",
    "    qs = kernel.qalloc(N*N-1)\n",
    "\n",
    "    for round in range(numRounds+1):\n",
    "\n",
    "        # Step 1 - Reset all stabilizers\n",
    "        if round > 0:\n",
    "            for i in range(N*N-1):\n",
    "                kernel.reset(qs[i])\n",
    "\n",
    "        # Step 2 - Perform H on X-stabilizers\n",
    "        kernel.h(qs[0])\n",
    "        kernel.h(qs[1])\n",
    "        kernel.h(qs[2])\n",
    "        kernel.h(qs[3])\n",
    "\n",
    "        # NE\n",
    "        kernel.cx(qs[0], qd[2])\n",
    "        kernel.cx(qs[1], qd[4])\n",
    "        kernel.cx(qs[2], qd[8])\n",
    "        kernel.cx(qd[3], qs[4])\n",
    "        kernel.cx(qd[5], qs[5])\n",
    "        kernel.cx(qd[7], qs[6])\n",
    "\n",
    "        # NW\n",
    "        kernel.cx(qs[0], qd[1])\n",
    "        kernel.cx(qs[1], qd[3])\n",
    "        kernel.cx(qs[2], qd[7])\n",
    "        kernel.cx(qd[4], qs[5])\n",
    "        kernel.cx(qd[6], qs[6])\n",
    "        kernel.cx(qd[8], qs[7])\n",
    "\n",
    "        # SE\n",
    "        kernel.cx(qs[1], qd[1])\n",
    "        kernel.cx(qs[2], qd[5])\n",
    "        kernel.cx(qs[3], qd[7])\n",
    "        kernel.cx(qd[0], qs[4])\n",
    "        kernel.cx(qd[2], qs[5])\n",
    "        kernel.cx(qd[4], qs[6])\n",
    "\n",
    "        # SW\n",
    "        kernel.cx(qs[1], qd[0])\n",
    "        kernel.cx(qs[2], qd[4])\n",
    "        kernel.cx(qs[3], qd[6])\n",
    "        kernel.cx(qd[1], qs[5])\n",
    "        kernel.cx(qd[3], qs[6])\n",
    "        kernel.cx(qd[5], qs[7])\n",
    "\n",
    "        kernel.h(qs[0])\n",
    "        kernel.h(qs[1])\n",
    "        kernel.h(qs[2])\n",
    "        kernel.h(qs[3])\n",
    "\n",
    "        # Measure (and save) the syndromes\n",
    "        kernel.mz(qs, f\"round{round}\")\n",
    "\n",
    "        # Apply a random error or two\n",
    "        if round == 5 or round == 6:\n",
    "            kernel.x(qd[random.randint(0, 8)])\n",
    "    kernel.mz(qd, 'data')\n",
    "    results = cudaq.sample(kernel, shots_count=1)\n",
    "    return results"
   ]
  },
  {
   "cell_type": "code",
   "execution_count": 38,
   "metadata": {},
   "outputs": [
    {
     "name": "stdout",
     "output_type": "stream",
     "text": [
      "Iter 0 [0 0 0 0 0 0 0 0 0] [0 0 0 0 0 0 0 0 0] 0 0 meas is 0 and corrected is 0\n"
     ]
    }
   ],
   "source": [
    "for iter in range(1):\n",
    "    # Run quantum simulation\n",
    "    results = performRounds(N_ROUNDS)\n",
    "    \n",
    "    # Get data qubit measurements\n",
    "    results_data = results.get_register_counts(\"data\")\n",
    "    measZ = np.bitwise_xor.reduce(np.array([int(bit) for bit in results_data.most_probable()]))\n",
    "\n",
    "    # Form syndromes by XOR'ing with previous round's syndrome measurements\n",
    "    syndrome_x = list()\n",
    "    syndrome_z = list()\n",
    "    for round in range(1,N_ROUNDS+1):\n",
    "        prevRound = results.get_register_counts(f\"round{round-1}\")\n",
    "        prevRoundSyn = np.array([int(bit) for bit in prevRound.most_probable()])\n",
    "        thisRound = results.get_register_counts(f\"round{round}\")\n",
    "        thisRoundSyn = np.array([int(bit) for bit in thisRound.most_probable()])\n",
    "        syndromes = np.bitwise_xor(prevRoundSyn, thisRoundSyn)\n",
    "        syndrome_x.append(syndromes[0:4])\n",
    "        syndrome_z.append(syndromes[4:])\n",
    "    syndrome_x = np.array(syndrome_x)\n",
    "    syndrome_z = np.array(syndrome_z)\n",
    "\n",
    "    # Decode syndromes and apply corrections to data\n",
    "    decode_x = mx.decode(syndrome_x.transpose())\n",
    "    decode_z = mz.decode(syndrome_z.transpose())\n",
    "    resX = np.bitwise_xor.reduce(decode_x)\n",
    "    resZ = np.bitwise_xor.reduce(decode_z)\n",
    "    correctedZ = measZ ^ resZ\n",
    "    print(\"Iter\", iter, decode_x, decode_z, resX, resZ, f\"meas is {measZ} and corrected is {correctedZ}\")"
   ]
  },
  {
   "cell_type": "code",
   "execution_count": null,
   "metadata": {},
   "outputs": [],
   "source": []
  }
 ],
 "metadata": {
  "kernelspec": {
   "display_name": "Python 3",
   "language": "python",
   "name": "python3"
  },
  "language_info": {
   "codemirror_mode": {
    "name": "ipython",
    "version": 3
   },
   "file_extension": ".py",
   "mimetype": "text/x-python",
   "name": "python",
   "nbconvert_exporter": "python",
   "pygments_lexer": "ipython3",
   "version": "3.10.12"
  }
 },
 "nbformat": 4,
 "nbformat_minor": 2
}
